{
 "cells": [
  {
   "cell_type": "code",
   "execution_count": 2,
   "metadata": {},
   "outputs": [
    {
     "name": "stdout",
     "output_type": "stream",
     "text": [
      "Se está abriendo en una sesión de navegador existente.\n"
     ]
    }
   ],
   "source": [
    "#Working a basic line graph\n",
    "#Imporing bokeh\n",
    "\n",
    "from bokeh.plotting import figure\n",
    "from bokeh.io import output_file, show\n",
    "\n",
    "#Prepare some data\n",
    "x = [1, 2, 3, 4, 5]\n",
    "y = [6, 7, 8, 9, 10]\n",
    "\n",
    "#Prepare the output file\n",
    "output_file(\"line.html\")\n",
    "f = figure()\n",
    "\n",
    "#Create line plot\n",
    "f.line(x,y)\n",
    "show(f)  #Mostrar el gráfico"
   ]
  },
  {
   "cell_type": "code",
   "execution_count": 9,
   "metadata": {},
   "outputs": [
    {
     "name": "stdout",
     "output_type": "stream",
     "text": [
      "Se está abriendo en una sesión de navegador existente.\n"
     ]
    }
   ],
   "source": [
    "#Aqui apareceran los puntos en forma de triangulos en las coordenadas asignadas\n",
    "x = [3, 10, 7.6]\n",
    "y = [3, 9, 6]\n",
    "\n",
    "output_file(\"Triangle.html\")\n",
    "f = figure()\n",
    "\n",
    "f.scatter(x, y, marker= \"triangle\")\n",
    "show(f)"
   ]
  },
  {
   "cell_type": "code",
   "execution_count": 10,
   "metadata": {},
   "outputs": [
    {
     "name": "stdout",
     "output_type": "stream",
     "text": [
      "Se está abriendo en una sesión de navegador existente.\n"
     ]
    }
   ],
   "source": [
    "#Aqui apareceran circulos en las coordenadas asignadas\n",
    "x = [3, 10, 7.6]\n",
    "y = [3, 9, 6]\n",
    "\n",
    "output_file(\"Triangle.html\")\n",
    "f = figure()\n",
    "\n",
    "f.scatter(x, y, marker= \"circle\")\n",
    "show(f)"
   ]
  },
  {
   "cell_type": "code",
   "execution_count": 11,
   "metadata": {},
   "outputs": [
    {
     "name": "stdout",
     "output_type": "stream",
     "text": [
      "Se está abriendo en una sesión de navegador existente.\n"
     ]
    }
   ],
   "source": [
    "#Working a basic line graph\n",
    "#Imporing bokeh and pandas\n",
    "\n",
    "from bokeh.plotting import figure\n",
    "from bokeh.io import output_file, show\n",
    "import pandas as pd\n",
    "\n",
    "df = pd.read_csv(\"data.csv\")\n",
    "x = df[\"x\"]\n",
    "y = df[\"y\"]\n",
    "\n",
    "#Prepare the output file\n",
    "output_file(\"line_from_csv.html\")\n",
    "f = figure()\n",
    "\n",
    "#Create line plot\n",
    "f.line(x,y)\n",
    "show(f)  #Mostrar el gráfico"
   ]
  }
 ],
 "metadata": {
  "kernelspec": {
   "display_name": ".venv",
   "language": "python",
   "name": "python3"
  },
  "language_info": {
   "codemirror_mode": {
    "name": "ipython",
    "version": 3
   },
   "file_extension": ".py",
   "mimetype": "text/x-python",
   "name": "python",
   "nbconvert_exporter": "python",
   "pygments_lexer": "ipython3",
   "version": "3.12.8"
  }
 },
 "nbformat": 4,
 "nbformat_minor": 2
}
