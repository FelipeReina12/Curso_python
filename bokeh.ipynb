{
 "cells": [
  {
   "cell_type": "code",
   "execution_count": 5,
   "metadata": {},
   "outputs": [],
   "source": [
    "#Working a basic line graph\n",
    "#Imporing bokeh\n",
    "\n",
    "from bokeh.plotting import figure\n",
    "from bokeh.io import output_file, show\n",
    "\n",
    "#Prepare some data\n",
    "x = [1, 2, 3, 4, 5]\n",
    "y = [6, 7, 8, 9, 10]\n",
    "\n",
    "#Prepare the output file\n",
    "output_file(\"line.html\")\n",
    "f = figure()\n",
    "\n",
    "#Create line plot\n",
    "f.line(x,y)\n",
    "show(f)  #Mostrar el gráfico"
   ]
  },
  {
   "cell_type": "code",
   "execution_count": 6,
   "metadata": {},
   "outputs": [],
   "source": [
    "#Aqui apareceran los puntos en forma de triangulos en las coordenadas asignadas\n",
    "x = [3, 10, 7.6]\n",
    "y = [3, 9, 6]\n",
    "\n",
    "output_file(\"Triangle.html\")\n",
    "f = figure()\n",
    "\n",
    "f.scatter(x, y, marker= \"triangle\")\n",
    "show(f)"
   ]
  },
  {
   "cell_type": "code",
   "execution_count": 7,
   "metadata": {},
   "outputs": [
    {
     "name": "stdout",
     "output_type": "stream",
     "text": [
      "Se está abriendo en una sesión de navegador existente.\n",
      "Se está abriendo en una sesión de navegador existente.\n"
     ]
    }
   ],
   "source": [
    "#Aqui apareceran circulos en las coordenadas asignadas\n",
    "x = [3, 10, 7.6]\n",
    "y = [3, 9, 6]\n",
    "\n",
    "output_file(\"Triangle.html\")\n",
    "f = figure()\n",
    "\n",
    "f.scatter(x, y, marker= \"circle\")\n",
    "show(f)"
   ]
  },
  {
   "cell_type": "code",
   "execution_count": 8,
   "metadata": {},
   "outputs": [
    {
     "name": "stdout",
     "output_type": "stream",
     "text": [
      "Se está abriendo en una sesión de navegador existente.\n"
     ]
    },
    {
     "data": {
      "text/plain": [
       "0     6\n",
       "1     7\n",
       "2     8\n",
       "3     9\n",
       "4    10\n",
       "Name: y, dtype: int64"
      ]
     },
     "execution_count": 8,
     "metadata": {},
     "output_type": "execute_result"
    }
   ],
   "source": [
    "#Working a basic line graph\n",
    "#Imporing bokeh and pandas\n",
    "\n",
    "from bokeh.plotting import figure\n",
    "from bokeh.io import output_file, show\n",
    "import pandas as pd\n",
    "\n",
    "df = pd.read_csv(\"data.csv\")\n",
    "x = df[\"x\"]\n",
    "y = df[\"y\"]\n",
    "\n",
    "#Prepare the output file\n",
    "output_file(\"line_from_csv.html\")\n",
    "f = figure()\n",
    "\n",
    "#Create line plot\n",
    "f.line(x,y)\n",
    "show(f)  #Mostrar el gráfico\n",
    "\n",
    "df[\"y\"]"
   ]
  },
  {
   "cell_type": "code",
   "execution_count": 9,
   "metadata": {},
   "outputs": [],
   "source": [
    "df1 = pd.read_csv(\"bachelors.csv\")\n",
    "x = df1[\"Year\"]  #Se pone el nombre de la columna que se quiere utilizar\n",
    "y = df1[\"Engineering\"]\n",
    "\n",
    "output_file(\"Exercise.html\")\n",
    "f =figure()\n",
    "f.line(x, y)\n",
    "f.title.text = \"Grafica de Bachelors\"\n",
    "f.title.text_color = \"white\"\n",
    "f.xaxis.axis_label = \"Year\"\n",
    "f.yaxis.axis_label = \"Engineering\"\n",
    "show(f)"
   ]
  }
 ],
 "metadata": {
  "kernelspec": {
   "display_name": ".venv",
   "language": "python",
   "name": "python3"
  },
  "language_info": {
   "codemirror_mode": {
    "name": "ipython",
    "version": 3
   },
   "file_extension": ".py",
   "mimetype": "text/x-python",
   "name": "python",
   "nbconvert_exporter": "python",
   "pygments_lexer": "ipython3",
   "version": "3.12.8"
  }
 },
 "nbformat": 4,
 "nbformat_minor": 2
}
