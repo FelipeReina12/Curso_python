{
 "cells": [
  {
   "cell_type": "code",
   "execution_count": 1,
   "metadata": {},
   "outputs": [],
   "source": [
    "#Working a basic line graph\n",
    "#Imporing bokeh\n",
    "\n",
    "from bokeh.plotting import figure\n",
    "from bokeh.io import output_file, show\n",
    "\n",
    "#Prepare some data\n",
    "x = [1, 2, 3, 4, 5]\n",
    "y = [6, 7, 8, 9, 10]\n",
    "\n",
    "#Prepare the output file\n",
    "output_file(\"line.html\")\n",
    "f = figure()\n",
    "\n",
    "#Create line plot\n",
    "f.line(x,y)\n",
    "show(f)  #Mostrar el gráfico"
   ]
  },
  {
   "cell_type": "code",
   "execution_count": 2,
   "metadata": {},
   "outputs": [],
   "source": [
    "#Aqui apareceran los puntos en forma de triangulos en las coordenadas asignadas\n",
    "x = [3, 10, 7.6]\n",
    "y = [3, 9, 6]\n",
    "\n",
    "output_file(\"Triangle.html\")\n",
    "f = figure()\n",
    "\n",
    "f.scatter(x, y, marker= \"triangle\")\n",
    "show(f)"
   ]
  },
  {
   "cell_type": "code",
   "execution_count": 3,
   "metadata": {},
   "outputs": [],
   "source": [
    "#Aqui apareceran circulos en las coordenadas asignadas\n",
    "x = [3, 10, 7.6]\n",
    "y = [3, 9, 6]\n",
    "\n",
    "output_file(\"Triangle.html\")\n",
    "f = figure()\n",
    "\n",
    "f.scatter(x, y, marker= \"circle\")\n",
    "show(f)"
   ]
  },
  {
   "cell_type": "code",
   "execution_count": null,
   "metadata": {},
   "outputs": [],
   "source": [
    "#Working a basic line graph\n",
    "#Imporing bokeh and pandas\n",
    "\n",
    "from bokeh.plotting import figure\n",
    "from bokeh.io import output_file, show\n",
    "import pandas as pd\n",
    "\n",
    "df = pd.read_csv(\"data.csv\")\n",
    "x = df[\"x\"]\n",
    "y = df[\"y\"]\n",
    "\n",
    "#Prepare the output file\n",
    "output_file(\"line_from_csv.html\")\n",
    "f = figure()\n",
    "\n",
    "#Create line plot\n",
    "f.line(x,y)\n",
    "show(f)  #Mostrar el gráfico\n",
    "\n",
    "df[\"y\"]"
   ]
  },
  {
   "cell_type": "code",
   "execution_count": 5,
   "metadata": {},
   "outputs": [],
   "source": [
    "df1 = pd.read_csv(\"bachelors.csv\")\n",
    "x = df1[\"Year\"]  #Se pone el nombre de la columna que se quiere utilizar\n",
    "y = df1[\"Engineering\"]\n",
    "\n",
    "output_file(\"Exercise.html\")\n",
    "f =figure()\n",
    "f.line(x, y)\n",
    "f.title.text = \"Grafica de Bachelors\"\n",
    "f.title.text_color = \"white\"\n",
    "f.xaxis.axis_label = \"Year\"\n",
    "f.yaxis.axis_label = \"Engineering\"\n",
    "show(f)"
   ]
  },
  {
   "cell_type": "code",
   "execution_count": null,
   "metadata": {},
   "outputs": [],
   "source": [
    "import pandas as pd\n",
    "\n",
    "df2 = pd.read_excel(\"verlegenhuken.xlsx\")\n",
    "df2[\"Temperature\"] = df2[\"Temperature\"]/10\n",
    "df2[\"Pressure\"]= df2[\"Pressure\"]/10\n",
    "\n",
    "p = figure()\n",
    "p.title.text = \"Temperature and Air Pressure\"\n",
    "p.title.text_color = \"Gray\"\n",
    "p.title.text_font = \"arial\"\n",
    "p.title.text_font_style = \"bold\"\n",
    "p.xaxis.minor_tick_line_color =None\n",
    "p.yaxis.minor_tick_line_color = None\n",
    "p.xaxis.axis_label = \"Temperature (°C)\"\n",
    "p.yaxis.axis_label = \"Pressure (hPa)\"    \n",
    " \n",
    "p.circle(df2[\"Temperature\"],df2[\"Pressure\"],size=0.5)\n",
    "output_file(\"Weather.html\")\n",
    "show(p)"
   ]
  },
  {
   "cell_type": "code",
   "execution_count": 14,
   "metadata": {},
   "outputs": [
    {
     "name": "stderr",
     "output_type": "stream",
     "text": [
      "/tmp/ipykernel_12092/3870000999.py:4: UserWarning: Could not infer format, so each element will be parsed individually, falling back to `dateutil`. To ensure parsing is consistent and as-expected, please specify a format.\n",
      "  df = pandas.read_csv(\"adbe.csv\", parse_dates= [\"Date\"])  #parse_dates es para que se reconozca la fecha\n"
     ]
    },
    {
     "name": "stdout",
     "output_type": "stream",
     "text": [
      "Se está abriendo en una sesión de navegador existente.\n"
     ]
    }
   ],
   "source": [
    "from bokeh.plotting import figure, output_file, show\n",
    "import pandas\n",
    "\n",
    "df = pandas.read_csv(\"adbe.csv\", parse_dates= [\"Date\"])  #parse_dates es para que se reconozca la fecha\n",
    "\n",
    "p = figure(width= 750, height= 250, x_axis_type= \"datetime\")\n",
    "\n",
    "p.title = \"Adobe Stock Price\"\n",
    "\n",
    "p.line(df[\"Date\"], df[\"Close\"], color= \"Green\", alpha= 0.5)\n",
    "\n",
    "output_file(\"Timeseries.html\")\n",
    "show(p)\n"
   ]
  },
  {
   "cell_type": "code",
   "execution_count": 12,
   "metadata": {},
   "outputs": [
    {
     "name": "stdout",
     "output_type": "stream",
     "text": [
      "Se está abriendo en una sesión de navegador existente.\n"
     ]
    }
   ],
   "source": [
    "from bokeh.plotting import figure, output_file, show\n",
    "import pandas\n",
    "\n",
    "datos = pandas.read_csv(\"laptop_data.csv\")\n",
    "fig = figure(width= 700, height= 700, title= \"Laptop Data\")\n",
    "\n",
    "fig.title = \"Precio laptops\"\n",
    "\n",
    "fig.line(datos[\"Inches\"], datos[\"Price\"], color= \"red\", legend_label= \"Precio en función de la pantalla\")\n",
    "\n",
    "output_file(\"Precio_laptops.html\")\n",
    "show(fig)"
   ]
  }
 ],
 "metadata": {
  "kernelspec": {
   "display_name": ".venv",
   "language": "python",
   "name": "python3"
  },
  "language_info": {
   "codemirror_mode": {
    "name": "ipython",
    "version": 3
   },
   "file_extension": ".py",
   "mimetype": "text/x-python",
   "name": "python",
   "nbconvert_exporter": "python",
   "pygments_lexer": "ipython3",
   "version": "3.12.8"
  }
 },
 "nbformat": 4,
 "nbformat_minor": 2
}
