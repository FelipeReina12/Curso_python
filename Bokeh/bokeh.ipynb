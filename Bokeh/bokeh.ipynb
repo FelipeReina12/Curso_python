{
 "cells": [
  {
   "cell_type": "code",
   "execution_count": 3,
   "metadata": {},
   "outputs": [],
   "source": [
    "#Working a basic line graph\n",
    "#Imporing bokeh\n",
    "\n",
    "from bokeh.plotting import figure\n",
    "from bokeh.io import output_file, show\n",
    "\n",
    "#Prepare some data\n",
    "x = [1, 2, 3, 4, 5]\n",
    "y = [6, 7, 8, 9, 10]\n",
    "\n",
    "#Prepare the output file\n",
    "output_file(\"line.html\")\n",
    "f = figure()\n",
    "\n",
    "#Create line plot\n",
    "f.line(x,y)\n",
    "show(f)  #Mostrar el gráfico"
   ]
  },
  {
   "cell_type": "code",
   "execution_count": 4,
   "metadata": {},
   "outputs": [],
   "source": [
    "#Aqui apareceran los puntos en forma de triangulos en las coordenadas asignadas\n",
    "x = [3, 10, 7.6]\n",
    "y = [3, 9, 6]\n",
    "\n",
    "output_file(\"Triangle.html\")\n",
    "f = figure()\n",
    "\n",
    "f.scatter(x, y, marker= \"triangle\")\n",
    "show(f)"
   ]
  },
  {
   "cell_type": "code",
   "execution_count": 5,
   "metadata": {},
   "outputs": [],
   "source": [
    "#Aqui apareceran circulos en las coordenadas asignadas\n",
    "x = [3, 10, 7.6]\n",
    "y = [3, 9, 6]\n",
    "\n",
    "output_file(\"Triangle.html\")\n",
    "f = figure()\n",
    "\n",
    "f.scatter(x, y, marker= \"circle\")\n",
    "show(f)"
   ]
  },
  {
   "cell_type": "code",
   "execution_count": 6,
   "metadata": {},
   "outputs": [
    {
     "name": "stdout",
     "output_type": "stream",
     "text": [
      "Se está abriendo en una sesión de navegador existente.\n",
      "Se está abriendo en una sesión de navegador existente.\n",
      "Se está abriendo en una sesión de navegador existente.\n"
     ]
    },
    {
     "data": {
      "text/plain": [
       "0     6\n",
       "1     7\n",
       "2     8\n",
       "3     9\n",
       "4    10\n",
       "Name: y, dtype: int64"
      ]
     },
     "execution_count": 6,
     "metadata": {},
     "output_type": "execute_result"
    }
   ],
   "source": [
    "#Working a basic line graph\n",
    "#Imporing bokeh and pandas\n",
    "\n",
    "from bokeh.plotting import figure\n",
    "from bokeh.io import output_file, show\n",
    "import pandas as pd\n",
    "\n",
    "df = pd.read_csv(\"data.csv\")\n",
    "x = df[\"x\"]\n",
    "y = df[\"y\"]\n",
    "\n",
    "#Prepare the output file\n",
    "output_file(\"line_from_csv.html\")\n",
    "f = figure()\n",
    "\n",
    "#Create line plot\n",
    "f.line(x,y)\n",
    "show(f)  #Mostrar el gráfico\n",
    "\n",
    "df[\"y\"]"
   ]
  },
  {
   "cell_type": "code",
   "execution_count": 7,
   "metadata": {},
   "outputs": [],
   "source": [
    "df1 = pd.read_csv(\"bachelors.csv\")\n",
    "x = df1[\"Year\"]  #Se pone el nombre de la columna que se quiere utilizar\n",
    "y = df1[\"Engineering\"]\n",
    "\n",
    "output_file(\"Exercise.html\")\n",
    "f =figure()\n",
    "f.line(x, y)\n",
    "f.title.text = \"Grafica de Bachelors\"\n",
    "f.title.text_color = \"white\"\n",
    "f.xaxis.axis_label = \"Year\"\n",
    "f.yaxis.axis_label = \"Engineering\"\n",
    "show(f)"
   ]
  },
  {
   "cell_type": "code",
   "execution_count": 8,
   "metadata": {},
   "outputs": [
    {
     "name": "stdout",
     "output_type": "stream",
     "text": [
      "Se está abriendo en una sesión de navegador existente.\n",
      "Se está abriendo en una sesión de navegador existente.\n"
     ]
    },
    {
     "name": "stderr",
     "output_type": "stream",
     "text": [
      "BokehDeprecationWarning: 'circle() method with size value' was deprecated in Bokeh 3.4.0 and will be removed, use 'scatter(size=...) instead' instead.\n"
     ]
    }
   ],
   "source": [
    "import pandas as pd\n",
    "\n",
    "df2 = pd.read_excel(\"verlegenhuken.xlsx\")\n",
    "df2[\"Temperature\"] = df2[\"Temperature\"]/10\n",
    "df2[\"Pressure\"]= df2[\"Pressure\"]/10\n",
    "\n",
    "p = figure()\n",
    "p.title.text = \"Temperature and Air Pressure\"\n",
    "p.title.text_color = \"Gray\"\n",
    "p.title.text_font = \"arial\"\n",
    "p.title.text_font_style = \"bold\"\n",
    "p.xaxis.minor_tick_line_color =None\n",
    "p.yaxis.minor_tick_line_color = None\n",
    "p.xaxis.axis_label = \"Temperature (°C)\"\n",
    "p.yaxis.axis_label = \"Pressure (hPa)\"    \n",
    " \n",
    "p.circle(df2[\"Temperature\"],df2[\"Pressure\"],size=0.5)\n",
    "output_file(\"Weather.html\")\n",
    "show(p)"
   ]
  },
  {
   "cell_type": "code",
   "execution_count": null,
   "metadata": {},
   "outputs": [],
   "source": [
    "from bokeh.plotting import figure, output_file, show\n",
    "import pandas\n",
    "\n",
    "df = pandas.read_csv(\"adbe.csv\", parse_dates= [\"Date\"])  #parse_dates es para que se reconozca la fecha\n",
    "\n",
    "p = figure(width= 750, height= 250, x_axis_type= \"datetime\")\n",
    "\n",
    "p.title = \"Adobe Stock Price\"\n",
    "\n",
    "p.line(df[\"Date\"], df[\"Close\"], color= \"Green\", alpha= 0.5)\n",
    "\n",
    "output_file(\"Timeseries.html\")\n",
    "show(p)\n"
   ]
  },
  {
   "cell_type": "code",
   "execution_count": 12,
   "metadata": {},
   "outputs": [
    {
     "name": "stdout",
     "output_type": "stream",
     "text": [
      "Se está abriendo en una sesión de navegador existente.\n"
     ]
    }
   ],
   "source": [
    "from bokeh.plotting import figure, output_file, show\n",
    "import pandas\n",
    "\n",
    "datos = pandas.read_csv(\"laptop_data.csv\")\n",
    "fig = figure(width= 700, height= 700, title= \"Laptop Data\")\n",
    "\n",
    "fig.title = \"Precio laptops\"\n",
    "\n",
    "fig.line(datos[\"Inches\"], datos[\"Price\"], color= \"red\", legend_label= \"Precio en función de la pantalla\")\n",
    "\n",
    "output_file(\"Precio_laptops.html\")\n",
    "show(fig)"
   ]
  },
  {
   "cell_type": "code",
   "execution_count": 20,
   "metadata": {},
   "outputs": [
    {
     "name": "stderr",
     "output_type": "stream",
     "text": [
      "BokehDeprecationWarning: 'circle() method with size value' was deprecated in Bokeh 3.4.0 and will be removed, use 'scatter(size=...) instead' instead.\n"
     ]
    },
    {
     "name": "stdout",
     "output_type": "stream",
     "text": [
      "Se está abriendo en una sesión de navegador existente.\n"
     ]
    }
   ],
   "source": [
    "from bokeh.plotting import figure, output_file, show\n",
    "import pandas\n",
    "\n",
    "p = figure(width= 700, height= 700)\n",
    "p.title = \"Earthquake\"\n",
    "\n",
    "p.yaxis.minor_tick_line_color = \"Yellow\"\n",
    "\n",
    "p.xaxis.axis_label = \"Times\"\n",
    "p.yaxis.axis_label = \"Valules\"\n",
    "\n",
    "p.line([1, 2, 3, 4, 5], [5, 6, 5, 5, 3], line_width= 2, color = \"red\", alpha = 0.5)\n",
    "p.circle([i* 2 for i in [1, 2, 3, 4, 5]], [5, 6, 5, 5, 3], size = 8, line_width= 2, color = \"red\", alpha = 0.5)\n",
    "\n",
    "output_file(\"Scatter_plotting.html\")\n",
    "show(p)\n"
   ]
  }
 ],
 "metadata": {
  "kernelspec": {
   "display_name": ".venv",
   "language": "python",
   "name": "python3"
  },
  "language_info": {
   "codemirror_mode": {
    "name": "ipython",
    "version": 3
   },
   "file_extension": ".py",
   "mimetype": "text/x-python",
   "name": "python",
   "nbconvert_exporter": "python",
   "pygments_lexer": "ipython3",
   "version": "3.12.8"
  }
 },
 "nbformat": 4,
 "nbformat_minor": 2
}
