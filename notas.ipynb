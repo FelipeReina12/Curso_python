{
 "cells": [
  {
   "cell_type": "code",
   "execution_count": 2,
   "metadata": {},
   "outputs": [
    {
     "data": {
      "text/plain": [
       "['.git',\n",
       " '.venv',\n",
       " '.vscode',\n",
       " 'booleans.py',\n",
       " 'conditionals.py',\n",
       " 'Datos',\n",
       " 'dict.py',\n",
       " 'ejercicios_de_bucles.py',\n",
       " 'Ejercicios_de_cadenas.py',\n",
       " 'Ejercicios_de_condicionales.py',\n",
       " 'ejercicios_diccionarios.py',\n",
       " 'ejercicios_funciones.py',\n",
       " 'Ejercicios_tipos_de_datos.py',\n",
       " 'files',\n",
       " 'files_with_python.py',\n",
       " 'functions.py',\n",
       " 'functions_with_multiple_argments.py',\n",
       " 'getting_started_with_pandas.py',\n",
       " 'list.py',\n",
       " 'list_comprehension.py',\n",
       " 'loops.py',\n",
       " 'modules.py',\n",
       " 'my_program.py',\n",
       " 'notas.ipynb',\n",
       " 'repaso.py',\n",
       " 'repaso_diccionarios.py',\n",
       " 'repaso_listas.py',\n",
       " 'repaso_loops.py',\n",
       " 'reto.py',\n",
       " 'strings.py',\n",
       " 'users.py',\n",
       " 'while_loop.py']"
      ]
     },
     "execution_count": 2,
     "metadata": {},
     "output_type": "execute_result"
    }
   ],
   "source": [
    "import os\n",
    "os.listdir()"
   ]
  },
  {
   "cell_type": "code",
   "execution_count": null,
   "metadata": {},
   "outputs": [],
   "source": []
  }
 ],
 "metadata": {
  "kernelspec": {
   "display_name": ".venv",
   "language": "python",
   "name": "python3"
  },
  "language_info": {
   "codemirror_mode": {
    "name": "ipython",
    "version": 3
   },
   "file_extension": ".py",
   "mimetype": "text/x-python",
   "name": "python",
   "nbconvert_exporter": "python",
   "pygments_lexer": "ipython3",
   "version": "3.12.8"
  }
 },
 "nbformat": 4,
 "nbformat_minor": 2
}
